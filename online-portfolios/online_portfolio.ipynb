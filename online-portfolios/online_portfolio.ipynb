{
 "cells": [
  {
   "attachments": {},
   "cell_type": "markdown",
   "id": "korean-wednesday",
   "metadata": {},
   "source": [
    "# Online Portfolio\n",
    "Your company has received a few applications for a computer science position. You are the hiring manager and should review the online portfolios of the applicants. In particular, you should do the following:\n",
    "- Write a short review (including 3 strong and 3 weak points) for the online portfolio of each of the following applicants.\n",
    "    - [Megan Landau](http://www.meganlandau.com/portfolio-1/).\n",
    "    - [Kalyn Nakano](https://kalynnakano.com/).\n",
    "    - [Victoria Holland](https://victoria-holland.info/).\n",
    "    - [Gautam Krishna](https://www.gautamkrishnar.com/).\n",
    "    - [Lakshmi Chandana](https://chandanachaitanya.github.io/).\n",
    "- Rank the applicants for the job position based on your reviews.\n",
    "- Who will you hire in the end? Why? "
   ]
  },
  {
   "cell_type": "code",
   "execution_count": null,
   "id": "cff7f270",
   "metadata": {},
   "outputs": [],
   "source": []
  },
  {
   "attachments": {},
   "cell_type": "markdown",
   "id": "23e2013c",
   "metadata": {},
   "source": [
    "## Megan Landau\n",
    "### Pros:\n",
    "* good design\n",
    "* informative desciriptions\n",
    "* usefull links\n",
    "### Cons:\n",
    "* overloaded home page\n",
    "* link to arts portfolio seems a little bit unrelated"
   ]
  },
  {
   "attachments": {},
   "cell_type": "markdown",
   "id": "dbf7387b",
   "metadata": {},
   "source": [
    "## Kalyn Nakalo\n",
    "\n",
    "### Pros:\n",
    "* interesting design decisions\n",
    "* consistent timelino of work experience description\n",
    "  \n",
    "### Cons:\n",
    "* no separate contacs section\n",
    "* no links to the code examples (github)\n"
   ]
  },
  {
   "attachments": {},
   "cell_type": "markdown",
   "id": "3aba86bf",
   "metadata": {},
   "source": [
    "## Viktoria Holland\n",
    "\n",
    "### Pros:\n",
    "* has testimonial included\n",
    "* all relevant links is easy to find in one place\n",
    "### Cons:\n",
    "* typography is a little off\n",
    "* no full cv available\n",
    "* all relevant content is in different pages"
   ]
  },
  {
   "attachments": {},
   "cell_type": "markdown",
   "id": "35a9f810",
   "metadata": {},
   "source": [
    "## Gautam Krishna\n",
    "\n",
    "### Pros:\n",
    "* really good desig\n",
    "* portfolio cases detailed + links to souce code\n",
    "* categorized portfolio\n",
    "### Cons:\n",
    "* no classical CV section\n",
    "* no education info\n"
   ]
  },
  {
   "attachments": {},
   "cell_type": "markdown",
   "id": "7057c525",
   "metadata": {},
   "source": [
    "## Lakshmi Chandana K\n",
    "\n",
    "### Pros:\n",
    "* good design\n",
    "* certifications and achievements included\n",
    "### Cons:\n",
    "* no related links to portfolio cases\n",
    "* no link to classic CV \n"
   ]
  },
  {
   "cell_type": "markdown",
   "id": "a38aea27",
   "metadata": {},
   "source": []
  }
 ],
 "metadata": {
  "kernelspec": {
   "display_name": "Python 3",
   "language": "python",
   "name": "python3"
  },
  "language_info": {
   "codemirror_mode": {
    "name": "ipython",
    "version": 3
   },
   "file_extension": ".py",
   "mimetype": "text/x-python",
   "name": "python",
   "nbconvert_exporter": "python",
   "pygments_lexer": "ipython3",
   "version": "3.8.5"
  }
 },
 "nbformat": 4,
 "nbformat_minor": 5
}
