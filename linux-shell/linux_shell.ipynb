{
 "cells": [
  {
   "attachments": {},
   "cell_type": "markdown",
   "id": "korean-wednesday",
   "metadata": {},
   "source": [
    "# Linux Shell\n",
    "You should work with the Linux shell. In particular, you should do the following:\n",
    "- Open the terminal.\n",
    "- Check your current working directory.\n",
    "- Go to the `/tmp` directory. \n",
    "- Check the list of files and directories.\n",
    "- Create a new directory named `exercise`.\n",
    "- Go to the `exercise` directory. \n",
    "- Create a file named `file_1.txt` and write \"Hello World!\" into it.\n",
    "- Check the content of the new `file_1.txt` file.\n",
    "- Create an empty file and write the list of files on your Desktop in it. \n",
    "- Check the content of the new hidden file.\n",
    "- Append the text \"This file is confidential\" to the end of the hidden file.\n",
    "- Check the content of the new hidden file.\n",
    "- Go to the home directory.\n",
    "- Create a file named `home_file.txt` and write \"This is a file in my home directory.\" into it.\n",
    "- Move `home_file.txt` from your home directory to `/tmp/exercise`.\n",
    "- Rename `home_file.txt` to `file_2.txt`.\n",
    "- Go to the `/tmp/exercise` directory. \n",
    "- Merge `file_1.txt` and `file_2.txt` and write the result into a new file named `file_3.txt`.\n",
    "- Check the content of the new `file_3.txt` file.\n",
    "- Append `file_1.txt`, `file_2.txt`, and `file_3.txt` to the end of the hidden file.\n",
    "- List all (including hidden) files in `/tmp/exercise`.\n",
    "- Find the number of lines in the hidden file. \n",
    "- Find the number of unique lines in the hidden file.\n",
    "- Find all rows of the hidden file that contain the character \"a\".\n",
    "- Check the owner and permissions of files in `/tmp/exercise`.\n",
    "- Chang the permissions of `file_1.txt` to be readable, writeable, and executable by everyone.\n",
    "- Remove the whole `/tmp/exercise` directory. \n",
    "- List all the commands that you ran for each step. "
   ]
  },
  {
   "attachments": {},
   "cell_type": "markdown",
   "id": "fde69715",
   "metadata": {},
   "source": [
    "### Step 1\n",
    "\n",
    "#### Check currentorking directory\n",
    "\n",
    "Solution:\n",
    "\n",
    "``` bash\n",
    "pwd\n",
    "```"
   ]
  },
  {
   "attachments": {},
   "cell_type": "markdown",
   "id": "1c2afd0e",
   "metadata": {},
   "source": [
    "### Step 2\n",
    "\n",
    "#### Go to the `/tmp` directory. \n",
    "\n",
    "Solution:\n",
    "\n",
    "``` bash\n",
    "cd /tmp\n",
    "```"
   ]
  },
  {
   "attachments": {},
   "cell_type": "markdown",
   "id": "1236dc68",
   "metadata": {},
   "source": [
    "### Step 3\n",
    "\n",
    "#### Check the list of files and directories.\n",
    "\n",
    "Solution:\n",
    "\n",
    "``` bash\n",
    "ls -la\n",
    "```"
   ]
  },
  {
   "attachments": {},
   "cell_type": "markdown",
   "id": "7328dbf0",
   "metadata": {},
   "source": [
    "### Step 4\n",
    "\n",
    "#### Create a new directory named `exercise`.\n",
    "\n",
    "\n",
    "Solution:\n",
    "\n",
    "``` bash\n",
    "mkdir exercise\n",
    "```"
   ]
  },
  {
   "attachments": {},
   "cell_type": "markdown",
   "id": "bd2bfe7d",
   "metadata": {},
   "source": [
    "### Step 5\n",
    "\n",
    "#### Go to the `exercise` directory. \n",
    "\n",
    "Solution:\n",
    "\n",
    "``` bash\n",
    "cd exercise\n",
    "```"
   ]
  },
  {
   "attachments": {},
   "cell_type": "markdown",
   "id": "687a4072",
   "metadata": {},
   "source": [
    "### Step 6\n",
    "\n",
    "#### Create a file named `file_1.txt` and write \"Hello World!\" into it.\n",
    "\n",
    "Solution:\n",
    "\n",
    "``` bash\n",
    "echo \"Hello World!\" >> file_1.txt\n",
    "```"
   ]
  },
  {
   "attachments": {},
   "cell_type": "markdown",
   "id": "99728727",
   "metadata": {},
   "source": [
    "### Step 7\n",
    "\n",
    "#### Check the content of the new `file_1.txt` file.\n",
    "\n",
    "\n",
    "Solution:\n",
    "\n",
    "``` bash\n",
    "cat file_1.txt\n",
    "```"
   ]
  },
  {
   "attachments": {},
   "cell_type": "markdown",
   "id": "f273fcaa",
   "metadata": {},
   "source": [
    "### Step 8\n",
    "\n",
    "#### Create an empty file and write the list of files on your Desktop in it. \n",
    "\n",
    "Solution:\n",
    "\n",
    "``` bash\n",
    "ls -la /mnt/e/Users/mrblo/Desktop >> .desktop_files_list\n",
    "```"
   ]
  },
  {
   "attachments": {},
   "cell_type": "markdown",
   "id": "16852b8e",
   "metadata": {},
   "source": [
    "### Step 9\n",
    "\n",
    "#### Check the content of the new hidden file.\n",
    "\n",
    "Solution:\n",
    "\n",
    "``` bash\n",
    "cat .desktop_files_list\n",
    "\n",
    "```"
   ]
  },
  {
   "attachments": {},
   "cell_type": "markdown",
   "id": "e889ff82",
   "metadata": {},
   "source": [
    "### Step 10\n",
    "\n",
    "#### Append the text \"This file is confidential\" to the end of the hidden file.\n",
    "\n",
    "Solution:\n",
    "\n",
    "``` bash\n",
    "echo \"This file is confidential\" >> .desktop_files_list\n",
    "\n",
    "```"
   ]
  },
  {
   "attachments": {},
   "cell_type": "markdown",
   "id": "af27630c",
   "metadata": {},
   "source": [
    "### Step 11\n",
    "\n",
    "#### Check the content of the new hidden file.\n",
    "\n",
    "Solution:\n",
    "\n",
    "``` bash\n",
    "cat .desktop_files_list\n",
    "```"
   ]
  },
  {
   "attachments": {},
   "cell_type": "markdown",
   "id": "e6b1bb56",
   "metadata": {},
   "source": [
    "### Step 12\n",
    "\n",
    "#### Go to the home directory.\n",
    "\n",
    "Solution:\n",
    "\n",
    "``` bash\n",
    "cd ~\n",
    "```"
   ]
  },
  {
   "attachments": {},
   "cell_type": "markdown",
   "id": "2f78b627",
   "metadata": {},
   "source": [
    "### Step 13\n",
    "\n",
    "#### Create a file named `home_file.txt` and write \"This is a file in my home directory.\" into it.\n",
    "\n",
    "Solution:\n",
    "\n",
    "``` bash\n",
    "echo \"This is a file in my home directory.\" >> home_file.txt\n",
    "```"
   ]
  },
  {
   "attachments": {},
   "cell_type": "markdown",
   "id": "ca74b170",
   "metadata": {},
   "source": [
    "### Step 14\n",
    "\n",
    "#### Move `home_file.txt` from your home directory to `/tmp/exercise`.\n",
    "\n",
    "Solution:\n",
    "\n",
    "``` bash\n",
    "mv ./home_file.txt /tmp/exercise/home_file.txt\n",
    "```"
   ]
  },
  {
   "attachments": {},
   "cell_type": "markdown",
   "id": "450b3781",
   "metadata": {},
   "source": [
    "### Step 15\n",
    "\n",
    "#### Rename `home_file.txt` to `file_2.txt`.\n",
    "\n",
    "Solution:\n",
    "\n",
    "``` bash\n",
    "mv /tmp/exercise/home_file.txt /tmp/exercise/file_2.txt\n",
    "\n",
    "```"
   ]
  },
  {
   "attachments": {},
   "cell_type": "markdown",
   "id": "d35c957a",
   "metadata": {},
   "source": [
    "### Step 16\n",
    "\n",
    "#### Go to the `/tmp/exercise` directory. \n",
    "\n",
    "Solution:\n",
    "\n",
    "``` bash\n",
    "cd /tmp/exercise\n",
    "\n",
    "```"
   ]
  },
  {
   "attachments": {},
   "cell_type": "markdown",
   "id": "9d495bf4",
   "metadata": {},
   "source": [
    "### Step 17\n",
    "\n",
    "#### Merge `file_1.txt` and `file_2.txt` and write the result into a new file named `file_3.txt`.\n",
    "\n",
    "Solution:\n",
    "\n",
    "``` bash\n",
    "cat file_1.txt file_2.txt > file_3.txt\n",
    "```"
   ]
  },
  {
   "attachments": {},
   "cell_type": "markdown",
   "id": "1ff7abba",
   "metadata": {},
   "source": [
    "### Step 18\n",
    "\n",
    "#### Check the content of the new `file_3.txt` file.\n",
    "\n",
    "Solution:\n",
    "\n",
    "``` bash\n",
    "cat file_3.txt\n",
    "```"
   ]
  },
  {
   "attachments": {},
   "cell_type": "markdown",
   "id": "4441ca41",
   "metadata": {},
   "source": [
    "### Step 19\n",
    "\n",
    "#### Append `file_1.txt`, `file_2.txt`, and `file_3.txt` to the end of the hidden file.\n",
    "\n",
    "Solution:\n",
    "\n",
    "``` bash\n",
    "cat file_1.txt file_2.txt file_3.txt >> .desktop_files_list\n",
    "```"
   ]
  },
  {
   "attachments": {},
   "cell_type": "markdown",
   "id": "f615fff8",
   "metadata": {},
   "source": [
    "### Step 20\n",
    "\n",
    "#### List all (including hidden) files in `/tmp/exercise`.\n",
    "\n",
    "Solution:\n",
    "\n",
    "``` bash\n",
    "ls -la /tmp/exercise\n",
    "\n",
    "```"
   ]
  },
  {
   "attachments": {},
   "cell_type": "markdown",
   "id": "9738abda",
   "metadata": {},
   "source": [
    "### Step 21\n",
    "\n",
    "#### Find the number of lines in the hidden file. \n",
    "\n",
    "Solution:\n",
    "\n",
    "``` bash\n",
    "wc --line .desktop_files_list\n",
    "```"
   ]
  },
  {
   "attachments": {},
   "cell_type": "markdown",
   "id": "f70b8537",
   "metadata": {},
   "source": [
    "### Step 22\n",
    "\n",
    "#### Find the number of unique lines in the hidden file.\n",
    "\n",
    "Solution:\n",
    "\n",
    "``` bash\n",
    "uniq -u .desktop_files_list | wc --line\n",
    "\n",
    "```"
   ]
  },
  {
   "attachments": {},
   "cell_type": "markdown",
   "id": "b3189508",
   "metadata": {},
   "source": [
    "### Step 23\n",
    "\n",
    "#### Find all rows of the hidden file that contain the character \"a\".\n",
    "\n",
    "Solution:\n",
    "\n",
    "``` bash\n",
    "cat .desktop_files_list | grep a\n",
    "\n",
    "```"
   ]
  },
  {
   "attachments": {},
   "cell_type": "markdown",
   "id": "96d23de4",
   "metadata": {},
   "source": [
    "### Step 24\n",
    "\n",
    "#### Check the owner and permissions of files in `/tmp/exercise`.\n",
    "\n",
    "Solution:\n",
    "\n",
    "``` bash\n",
    "ls -la\n",
    "\n",
    "```"
   ]
  },
  {
   "attachments": {},
   "cell_type": "markdown",
   "id": "f71bef2f",
   "metadata": {},
   "source": [
    "### Step 25\n",
    "\n",
    "#### Change the permissions of `file_1.txt` to be readable, writeable, and executable by everyone.\n",
    "\n",
    "Solution:\n",
    "\n",
    "``` bash\n",
    "chmod 777 file_1.txt\n",
    "```"
   ]
  },
  {
   "attachments": {},
   "cell_type": "markdown",
   "id": "8a5d4b3d",
   "metadata": {},
   "source": [
    "### Step 26\n",
    "\n",
    "#### Remove the whole `/tmp/exercise` directory. \n",
    "\n",
    "Solution:\n",
    "\n",
    "``` bash\n",
    "cd ..\n",
    "rm -r excercise/\n",
    "```"
   ]
  },
  {
   "attachments": {},
   "cell_type": "markdown",
   "id": "fcff70c8",
   "metadata": {},
   "source": []
  }
 ],
 "metadata": {
  "kernelspec": {
   "display_name": "Python 3",
   "language": "python",
   "name": "python3"
  },
  "language_info": {
   "codemirror_mode": {
    "name": "ipython",
    "version": 3
   },
   "file_extension": ".py",
   "mimetype": "text/x-python",
   "name": "python",
   "nbconvert_exporter": "python",
   "pygments_lexer": "ipython3",
   "version": "3.8.5"
  }
 },
 "nbformat": 4,
 "nbformat_minor": 5
}
